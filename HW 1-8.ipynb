{
 "cells": [
  {
   "cell_type": "markdown",
   "metadata": {},
   "source": [
    "# Controller and Actuator Example Problem"
   ]
  },
  {
   "cell_type": "markdown",
   "metadata": {},
   "source": [
    "Joshua Agarth --- HW1 --- Problem 8 \n",
    "   \n",
    "Input values into the system:"
   ]
  },
  {
   "cell_type": "code",
   "execution_count": 1,
   "metadata": {
    "collapsed": false
   },
   "outputs": [
    {
     "name": "stdout",
     "output_type": "stream",
     "text": [
      "Enter the number of controllers: 3.0\n",
      "Enter the number of actuators: 3.0\n"
     ]
    }
   ],
   "source": [
    "\n",
    "from math import factorial\n",
    "\n",
    "c = int(input('Enter the number of controllers: '))\n",
    "a = int(input('Enter the number of actuators: '))\n"
   ]
  },
  {
   "cell_type": "code",
   "execution_count": 2,
   "metadata": {
    "collapsed": false
   },
   "outputs": [],
   "source": [
    "# Intialize a few variables\n",
    "c_min = 1 # minimum num of controllers that have to be working\n",
    "p_c = 0.25 # probability of controller failure\n",
    "\n",
    "a_min = 2 # minimum num of actuators that have to be working\n",
    "p_a = 0.1 # probability of actuator failure\n",
    "\n",
    "temp_c = 0 # intialize these variables to 0\n",
    "temp_a = 0 \n",
    "result = 0"
   ]
  },
  {
   "cell_type": "markdown",
   "metadata": {},
   "source": [
    "\n",
    "At least 1 controller and 2 actuators must be on at a time.\n",
    "\n",
    "Choose Function:"
   ]
  },
  {
   "cell_type": "code",
   "execution_count": 3,
   "metadata": {
    "collapsed": true
   },
   "outputs": [],
   "source": [
    "def combine(n, k):\n",
    "\tx = factorial(n) / (factorial(k) * factorial(n-k))\n",
    "\treturn x"
   ]
  },
  {
   "cell_type": "markdown",
   "metadata": {},
   "source": [
    "\n",
    "Create terms for event that the system is operational:"
   ]
  },
  {
   "cell_type": "code",
   "execution_count": 4,
   "metadata": {
    "collapsed": false
   },
   "outputs": [],
   "source": [
    "for i in range(0, 1 + c - c_min):\n",
    "    temp_c = combine(c,i)  * ((p_c)**(i) ) *  ((1-p_c) **(c - i))\n",
    "\n",
    "    for x in range(0, 1 + a - a_min ):\n",
    "        temp_a = (combine(a,x )) * (p_a**(x) ) *  ((1-p_a) **(a - x)) \n",
    "        \n",
    "        # multiply terms and add to previous result\n",
    "        result = temp_c * temp_a + result "
   ]
  },
  {
   "cell_type": "markdown",
   "metadata": {},
   "source": [
    "Output the result:"
   ]
  },
  {
   "cell_type": "code",
   "execution_count": 5,
   "metadata": {
    "collapsed": false
   },
   "outputs": [
    {
     "name": "stdout",
     "output_type": "stream",
     "text": [
      "\n",
      " The probability the system is operational is:  0.9568125\n"
     ]
    }
   ],
   "source": [
    "print \"\\n The probability the system is operational is: \", result"
   ]
  },
  {
   "cell_type": "code",
   "execution_count": null,
   "metadata": {
    "collapsed": true
   },
   "outputs": [],
   "source": []
  }
 ],
 "metadata": {
  "anaconda-cloud": {},
  "kernelspec": {
   "display_name": "Python [Root]",
   "language": "python",
   "name": "Python [Root]"
  },
  "language_info": {
   "codemirror_mode": {
    "name": "ipython",
    "version": 2
   },
   "file_extension": ".py",
   "mimetype": "text/x-python",
   "name": "python",
   "nbconvert_exporter": "python",
   "pygments_lexer": "ipython2",
   "version": "2.7.12"
  }
 },
 "nbformat": 4,
 "nbformat_minor": 1
}
