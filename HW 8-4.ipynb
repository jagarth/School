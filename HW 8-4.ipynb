{
 "cells": [
  {
   "cell_type": "code",
   "execution_count": 1,
   "metadata": {
    "collapsed": false
   },
   "outputs": [
    {
     "name": "stdout",
     "output_type": "stream",
     "text": [
      "3.5.2 |Anaconda 4.2.0 (x86_64)| (default, Jul  2 2016, 17:52:12) \n",
      "[GCC 4.2.1 Compatible Apple LLVM 4.2 (clang-425.0.28)]\n"
     ]
    }
   ],
   "source": [
    "%matplotlib inline\n",
    "import sys\n",
    "import random\n",
    "import numpy as np\n",
    "import matplotlib.pyplot as plt\n",
    "from sympy import *\n",
    "import sympy\n",
    "\n",
    "\n",
    "print (sys.version)\n"
   ]
  },
  {
   "cell_type": "markdown",
   "metadata": {},
   "source": [
    "# Problem 4"
   ]
  },
  {
   "cell_type": "code",
   "execution_count": 2,
   "metadata": {
    "collapsed": false
   },
   "outputs": [],
   "source": [
    "N = 100000\n",
    "lambda1 = 10\n",
    "\n",
    "\n",
    "X = np.random.exponential(scale=(1/lambda1), size=N)\n",
    "Y = np.sqrt(X)\n",
    "Z = X**3\n",
    "\n",
    "Ex = np.sum(X)/N \n",
    "Ey = np.sum(Y)/N \n",
    "Ez = np.sum(Z)/N \n",
    "\n",
    "fEx = np.sqrt(Ex)\n",
    "gEx = Ex**3"
   ]
  },
  {
   "cell_type": "markdown",
   "metadata": {},
   "source": [
    "Part a"
   ]
  },
  {
   "cell_type": "code",
   "execution_count": 3,
   "metadata": {
    "collapsed": false
   },
   "outputs": [
    {
     "name": "stdout",
     "output_type": "stream",
     "text": [
      "E[X] = 0.099641019772\n",
      "E[Y] = 0.279819262477 ,  sqrt(E[X]) = 0.315659658132\n",
      "E[Z] = 0.00586867081887 ,  E[X]^3 = 0.000989269206939\n"
     ]
    }
   ],
   "source": [
    "print (\"E[X] =\", Ex)\n",
    "print (\"E[Y] =\", Ey, \",  sqrt(E[X]) =\", fEx)\n",
    "print (\"E[Z] =\", Ez ,\",  E[X]^3 =\", gEx)\n"
   ]
  },
  {
   "cell_type": "markdown",
   "metadata": {},
   "source": [
    "E[Y] ≠ sqrt(E[X])\n",
    "\n",
    "E[Z] ≠ E[X]^3\n",
    "\n",
    "\n",
    "---\n",
    "Part b"
   ]
  },
  {
   "cell_type": "markdown",
   "metadata": {},
   "source": [
    "Actual Values: \n",
    "\n",
    "\n",
    "E[Y] = E[sqrt(X)] = integral 0 to infinity 10*exp(-10x) * x^(1/2) dx =  sqrt(π/10)/2 = 0.28025\n",
    "\n",
    "\n",
    "E[Z] = E[X^3] = integral 0 to infinity 10*exp(-10x) * x^(3) dx = 0.006\n",
    "\n",
    "These values are very close to the simulated values from part a. \n",
    "\n",
    "E[Y] has a percent error of .0105%\n",
    "\n",
    "E[Z] has a percent error of 1.008%\n"
   ]
  },
  {
   "cell_type": "code",
   "execution_count": null,
   "metadata": {
    "collapsed": true
   },
   "outputs": [],
   "source": []
  },
  {
   "cell_type": "code",
   "execution_count": null,
   "metadata": {
    "collapsed": true
   },
   "outputs": [],
   "source": []
  },
  {
   "cell_type": "code",
   "execution_count": null,
   "metadata": {
    "collapsed": true
   },
   "outputs": [],
   "source": []
  }
 ],
 "metadata": {
  "anaconda-cloud": {},
  "kernelspec": {
   "display_name": "Python [default]",
   "language": "python",
   "name": "python3"
  },
  "language_info": {
   "codemirror_mode": {
    "name": "ipython",
    "version": 3
   },
   "file_extension": ".py",
   "mimetype": "text/x-python",
   "name": "python",
   "nbconvert_exporter": "python",
   "pygments_lexer": "ipython3",
   "version": "3.5.2"
  }
 },
 "nbformat": 4,
 "nbformat_minor": 1
}
