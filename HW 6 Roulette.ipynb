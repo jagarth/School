{
 "cells": [
  {
   "cell_type": "code",
   "execution_count": 2,
   "metadata": {
    "collapsed": false
   },
   "outputs": [],
   "source": [
    "import sympy\n",
    "import random\n",
    "from ipywidgets import FloatProgress\n",
    "from IPython.display import display\n",
    "f = FloatProgress(min=0, max=100)"
   ]
  },
  {
   "cell_type": "code",
   "execution_count": 3,
   "metadata": {
    "collapsed": false
   },
   "outputs": [
    {
     "name": "stdout",
     "output_type": "stream",
     "text": [
      "The optimal value for c = 0.511\n"
     ]
    }
   ],
   "source": [
    "total_num=100000\n",
    "win_count = 0\n",
    "display(f)\n",
    "for i in range(1000):\n",
    "    f.value = i/10\n",
    "    c = i/1000\n",
    "    win_count1 = 0\n",
    "    for _ in range(total_num):\n",
    "        x1 = random.uniform(0, 1)\n",
    "        x2 = random.uniform(0, 1)\n",
    "        if (x1 < c):\n",
    "            y = random.uniform(0,x1/c)\n",
    "        else:\n",
    "            y = random.uniform(0,x1)\n",
    "        if x2 < y:\n",
    "            win_count1+=1\n",
    "    \n",
    "    if win_count1 > win_count:\n",
    "        win_count = win_count1\n",
    "        c_opt = c\n",
    "print(\"The optimal value for c =\", c_opt)\n"
   ]
  },
  {
   "cell_type": "markdown",
   "metadata": {},
   "source": [
    "The optimal value for c is approximately 0.5"
   ]
  },
  {
   "cell_type": "code",
   "execution_count": 7,
   "metadata": {
    "collapsed": false
   },
   "outputs": [
    {
     "name": "stderr",
     "output_type": "stream",
     "text": [
      "/Users/joshuaagarth/anaconda/lib/python3.5/site-packages/scipy/stats/_continuous_distns.py:4894: VisibleDeprecationWarning: using a non-integer number instead of an integer will result in an error in the future\n",
      "  return self._random_state.uniform(0.0, 1.0, self._size)\n"
     ]
    },
    {
     "data": {
      "text/plain": [
       "0.31245295"
      ]
     },
     "execution_count": 7,
     "metadata": {},
     "output_type": "execute_result"
    }
   ],
   "source": [
    "import scipy.stats\n",
    "import numpy as np\n",
    "num_sims=1e8\n",
    "thresh=c_opt\n",
    "X1=scipy.stats.uniform.rvs(size=num_sims)\n",
    "X2=scipy.stats.uniform.rvs(size=num_sims)\n",
    "Y=scipy.stats.uniform.rvs(size=num_sims)*(X1*(X1>thresh)+1/thresh*X1*(X1<=thresh))\n",
    "np.count_nonzero(X2<Y)/num_sims"
   ]
  },
  {
   "cell_type": "code",
   "execution_count": null,
   "metadata": {
    "collapsed": true
   },
   "outputs": [],
   "source": []
  }
 ],
 "metadata": {
  "anaconda-cloud": {},
  "kernelspec": {
   "display_name": "Python [default]",
   "language": "python",
   "name": "python3"
  },
  "language_info": {
   "codemirror_mode": {
    "name": "ipython",
    "version": 3
   },
   "file_extension": ".py",
   "mimetype": "text/x-python",
   "name": "python",
   "nbconvert_exporter": "python",
   "pygments_lexer": "ipython3",
   "version": "3.5.2"
  },
  "widgets": {
   "state": {
    "b8118a795b604addbb873f5f1d04a9a8": {
     "views": [
      {
       "cell_index": 1
      }
     ]
    }
   },
   "version": "1.2.0"
  }
 },
 "nbformat": 4,
 "nbformat_minor": 1
}
