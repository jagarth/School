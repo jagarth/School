{
 "cells": [
  {
   "cell_type": "code",
   "execution_count": 8,
   "metadata": {
    "collapsed": false
   },
   "outputs": [
    {
     "name": "stdout",
     "output_type": "stream",
     "text": [
      "3.5.2 |Anaconda 4.2.0 (x86_64)| (default, Jul  2 2016, 17:52:12) \n",
      "[GCC 4.2.1 Compatible Apple LLVM 4.2 (clang-425.0.28)]\n"
     ]
    }
   ],
   "source": [
    "%matplotlib inline\n",
    "import sys\n",
    "import random\n",
    "import numpy as np\n",
    "import matplotlib.pyplot as plt\n",
    "from sympy import *\n",
    "import sympy\n",
    "from scipy.stats import geom\n",
    "\n",
    "\n",
    "print (sys.version)"
   ]
  },
  {
   "cell_type": "markdown",
   "metadata": {},
   "source": [
    "Chernoff:"
   ]
  },
  {
   "cell_type": "code",
   "execution_count": 12,
   "metadata": {
    "collapsed": false
   },
   "outputs": [
    {
     "name": "stdout",
     "output_type": "stream",
     "text": [
      "6e-06\n"
     ]
    }
   ],
   "source": [
    "total_num = 1000000\n",
    "count = 0\n",
    "\n",
    "for _ in range (total_num):\n",
    "    r = geom.rvs(0.01, size=100)\n",
    "    X = np.sum(r)\n",
    "    if X > 15000:\n",
    "        count += 1\n",
    "print (count/total_num)"
   ]
  },
  {
   "cell_type": "markdown",
   "metadata": {},
   "source": [
    "Chebeyshev:"
   ]
  },
  {
   "cell_type": "code",
   "execution_count": 13,
   "metadata": {
    "collapsed": false
   },
   "outputs": [
    {
     "name": "stdout",
     "output_type": "stream",
     "text": [
      "4e-06\n"
     ]
    }
   ],
   "source": [
    "total_num = 1000000\n",
    "count = 0\n",
    "\n",
    "for _ in range (total_num):\n",
    "    r = geom.rvs(0.01, size=100)\n",
    "    X = np.sum(r)\n",
    "    if abs(X - 10**4) > 5000:\n",
    "        count += 1\n",
    "print (count/total_num)"
   ]
  },
  {
   "cell_type": "markdown",
   "metadata": {
    "collapsed": true
   },
   "source": [
    "The Chebeyshev and Chernoff inequalities were correct but the estimated values for the simulation was much smaller than the calculated values. This makes sense, since the Chebeyshev is simply an upper bound for the actual result. The simulated results were about 2 orders of magnitude smaller than the calculated upper bound. "
   ]
  }
 ],
 "metadata": {
  "anaconda-cloud": {},
  "kernelspec": {
   "display_name": "Python [default]",
   "language": "python",
   "name": "python3"
  },
  "language_info": {
   "codemirror_mode": {
    "name": "ipython",
    "version": 3
   },
   "file_extension": ".py",
   "mimetype": "text/x-python",
   "name": "python",
   "nbconvert_exporter": "python",
   "pygments_lexer": "ipython3",
   "version": "3.5.2"
  }
 },
 "nbformat": 4,
 "nbformat_minor": 1
}
