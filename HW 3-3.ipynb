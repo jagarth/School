{
 "cells": [
  {
   "cell_type": "markdown",
   "metadata": {},
   "source": [
    "Homework 3 #3\n",
    "\n",
    "a) See scanned document:\n",
    "b)"
   ]
  },
  {
   "cell_type": "code",
   "execution_count": 1,
   "metadata": {
    "collapsed": false
   },
   "outputs": [],
   "source": [
    "%matplotlib inline\n",
    "import matplotlib\n",
    "import numpy as np\n",
    "import matplotlib.pyplot as plt\n",
    "from numpy.random import randint,rand\n",
    "\n",
    "def prob(p0,p01,p10):\n",
    "    \n",
    "    p1 = 1 - p0    # To make the code a little cleaner initialize a few standard values\n",
    "    p00 = 1 - p01\n",
    "    p11 = 1 - p10\n",
    "\n",
    "    print 'The a posterioris are:' \n",
    "    print 'P(A0 | B0) = ', p00*p0/(p00*p0 + p01* p1)*1.0\n",
    "    print 'P(A1 | B0) = ', p01*p1/(p00*p0 + p01* p1)*1.0\n",
    "    print 'P(A0 | B1) = ', p10*p0/(p10*p0 + p11* p1)*1.0\n",
    "    print 'P(A1 | B1) = ', p11*p1/(p10*p0 + p11* p1)*1.0\n",
    "\n",
    "    print ''\n",
    "    print 'The Maximum Likelihood (ML) decision rule is:'\n",
    "    if (p00 > p01):\n",
    "        print 'Rx B0 choose A0'\n",
    "    else:\n",
    "        print 'Rx B0 choose A1'\n",
    "\n",
    "    if (p10> p11):\n",
    "        print 'Rx B1 choose A0'\n",
    "    else:\n",
    "        print 'Rx B1 choose A1'\n",
    "\n",
    "    print ''\n",
    "    print \"The probability of error for the ML Rule:\"\n",
    "    print \"Rx B0 Decide A0: P(E)=\", p01*p1+p11*p1\n",
    "    print \"Rx B0 Decide A1: P(E)=\", p00*p0+p10*p0\n",
    "    print \"Rx B1 Decide A0: P(E)=\", p11*p1+p01*p1\n",
    "    print \"Rx B1 Decide A0: P(E)=\", p10*p0+p00*p0\n",
    "\n",
    "    print ''\n",
    "    print 'The Maximum a Posteriori (MAP) decision rule is:'\n",
    "    if (p00*p0*1.0 > p01*p1*1.0):\n",
    "        MAP0 = p00*p0*1.0\n",
    "        q0 = 0\n",
    "        print 'Given B0 Choose A0'\n",
    "    else:\n",
    "        MAP0 = p01*p1*1.0\n",
    "        q0 = 1\n",
    "        print 'Given B0 Choose A1'\n",
    "\n",
    "    if (p10*p0*1.0 > p11*p1*1.0):\n",
    "        MAP1 = p10*p0*1.0\n",
    "        q1 = 0\n",
    "        print 'Given B1 Choose A0'\n",
    "    else:\n",
    "        MAP1 = p11*p1*1.0\n",
    "        q1 = 1\n",
    "        print 'Given B1 Choose A1'\n",
    "    print ''\n",
    "    print 'Given B0 Rx, P(E)=',MAP0\n",
    "    print 'Given B1 Rx, P(E)=',MAP1"
   ]
  },
  {
   "cell_type": "markdown",
   "metadata": {},
   "source": [
    "These are from the examples in the text: \n",
    "You can clearly see the decision rule change."
   ]
  },
  {
   "cell_type": "code",
   "execution_count": 2,
   "metadata": {
    "collapsed": false
   },
   "outputs": [
    {
     "name": "stdout",
     "output_type": "stream",
     "text": [
      "The a posterioris are:\n",
      "P(A0 | B0) =  0.83333333\n",
      "P(A1 | B0) =  0.16666667\n",
      "P(A0 | B1) =  0.125\n",
      "P(A1 | B1) =  0.875\n",
      "\n",
      "The Maximum Likelihood (ML) decision rule is:\n",
      "Rx B0 choose A0\n",
      "Rx B1 choose A1\n",
      "\n",
      "The probability of error for the ML Rule:\n",
      "Rx B0 Decide A0: P(E)= 0.520833335\n",
      "Rx B0 Decide A1: P(E)= 0.479166665\n",
      "Rx B1 Decide A0: P(E)= 0.520833335\n",
      "Rx B1 Decide A0: P(E)= 0.479166665\n",
      "\n",
      "The Maximum a Posteriori (MAP) decision rule is:\n",
      "Given B0 Choose A0\n",
      "Given B1 Choose A1\n",
      "\n",
      "Given B0 Rx, P(E)= 0.416666665\n",
      "Given B1 Rx, P(E)= 0.4375\n"
     ]
    }
   ],
   "source": [
    "prob(0.5, 0.16666667 , 0.125)"
   ]
  },
  {
   "cell_type": "code",
   "execution_count": 3,
   "metadata": {
    "collapsed": false
   },
   "outputs": [
    {
     "name": "stdout",
     "output_type": "stream",
     "text": [
      "The a posterioris are:\n",
      "P(A0 | B0) =  0.357142851633\n",
      "P(A1 | B0) =  0.642857148367\n",
      "P(A0 | B1) =  0.015625\n",
      "P(A1 | B1) =  0.984375\n",
      "\n",
      "The Maximum Likelihood (ML) decision rule is:\n",
      "Rx B0 choose A0\n",
      "Rx B1 choose A1\n",
      "\n",
      "The probability of error for the ML Rule:\n",
      "Rx B0 Decide A0: P(E)= 0.937500003\n",
      "Rx B0 Decide A1: P(E)= 0.095833333\n",
      "Rx B1 Decide A0: P(E)= 0.937500003\n",
      "Rx B1 Decide A0: P(E)= 0.095833333\n",
      "\n",
      "The Maximum a Posteriori (MAP) decision rule is:\n",
      "Given B0 Choose A1\n",
      "Given B1 Choose A1\n",
      "\n",
      "Given B0 Rx, P(E)= 0.150000003\n",
      "Given B1 Rx, P(E)= 0.7875\n"
     ]
    }
   ],
   "source": [
    "prob(0.1, 0.16666667 , 0.125)"
   ]
  },
  {
   "cell_type": "code",
   "execution_count": 4,
   "metadata": {
    "collapsed": false
   },
   "outputs": [
    {
     "name": "stdout",
     "output_type": "stream",
     "text": [
      "The a posterioris are:\n",
      "P(A0 | B0) =  0.5\n",
      "P(A1 | B0) =  0.5\n",
      "P(A0 | B1) =  0.020725388601\n",
      "P(A1 | B1) =  0.979274611399\n",
      "\n",
      "The Maximum Likelihood (ML) decision rule is:\n",
      "Rx B0 choose A0\n",
      "Rx B1 choose A1\n",
      "\n",
      "The probability of error for the ML Rule:\n",
      "Rx B0 Decide A0: P(E)= 0.8904\n",
      "Rx B0 Decide A1: P(E)= 0.1504\n",
      "Rx B1 Decide A0: P(E)= 0.8904\n",
      "Rx B1 Decide A0: P(E)= 0.1504\n",
      "\n",
      "The Maximum a Posteriori (MAP) decision rule is:\n",
      "Given B0 Choose A1\n",
      "Given B1 Choose A1\n",
      "\n",
      "Given B0 Rx, P(E)= 0.1344\n",
      "Given B1 Rx, P(E)= 0.756\n"
     ]
    }
   ],
   "source": [
    "prob(0.16, 0.16 , 0.1)"
   ]
  },
  {
   "cell_type": "markdown",
   "metadata": {},
   "source": [
    "# Part II"
   ]
  },
  {
   "cell_type": "markdown",
   "metadata": {},
   "source": [
    "------------------    ------------------    ------------------    ------------------    \n",
    "Part D)"
   ]
  },
  {
   "cell_type": "code",
   "execution_count": 5,
   "metadata": {
    "collapsed": false
   },
   "outputs": [
    {
     "data": {
      "text/plain": [
       "[<matplotlib.lines.Line2D at 0x10d7be890>]"
      ]
     },
     "execution_count": 5,
     "metadata": {},
     "output_type": "execute_result"
    },
    {
     "data": {
      "image/png": "[encoded data removed]",
      "text/plain": [
       "<matplotlib.figure.Figure at 0x10b4a65d0>"
      ]
     },
     "metadata": {},
     "output_type": "display_data"
    }
   ],
   "source": [
    "\n",
    "# Initialize a few variables\n",
    "p01 = 0.0125         \n",
    "p10 = 0.01666666667\n",
    "\n",
    "p00 = 1 - p01\n",
    "p11 = 1 - p10\n",
    "\n",
    "# Create the array X where the values represent p0\n",
    "\n",
    "X = np.linspace(0, 1, 256, endpoint=True)\n",
    "\n",
    "Xnot = 1 - X\n",
    "\n",
    "#Generate the a posteriori probabilities as a fcn of X\n",
    "A0B0 =  p00*X/(p00*X + p01* Xnot)*1.0\n",
    "A1B0 =  p01*Xnot/(p00*X + p01* Xnot)*1.0\n",
    "A0B1 =  p10*X/(p10*X + p11* Xnot)*1.0\n",
    "A1B1 = p11*Xnot/(p10*X + p11* Xnot)*1.0\n",
    "    \n",
    "# Plot the probabilities\n",
    "plt.plot(X, A0B0)\n",
    "plt.plot(X, A1B0)\n",
    "plt.plot(X, A0B1)\n",
    "plt.plot(X, A1B1)\n",
    "\n"
   ]
  },
  {
   "cell_type": "markdown",
   "metadata": {},
   "source": [
    "------------------    ------------------    ------------------    ------------------    ------------------   \n",
    " \n",
    " \n",
    " \n",
    " \n",
    " \n",
    " \n",
    " \n",
    "Part E. "
   ]
  },
  {
   "cell_type": "code",
   "execution_count": 6,
   "metadata": {
    "collapsed": true
   },
   "outputs": [],
   "source": [
    "# A function to print out the MAP fcn for various values of p0, p01, p10.\n",
    "def MAP(p0, p01, p10):   \n",
    "    p1 = 1 - p0\n",
    "    p00 = 1 - p01\n",
    "    p11 = 1 - p10\n",
    "    print 'The Maximum a Posteriori (MAP) decision rule is:'\n",
    "    if (p00*p0*1.0 > p01*p1*1.0):\n",
    "        MAP0 = p00*p0*1.0\n",
    "        q0 = 0\n",
    "        print 'Given B0 Choose A0'\n",
    "    else:\n",
    "        MAP0 = p01*p1*1.0\n",
    "        q0 = 1\n",
    "        print 'Given B0 Choose A1'\n",
    "\n",
    "    if (p10*p0*1.0 > p11*p1*1.0):\n",
    "        MAP1 = p10*p0*1.0\n",
    "        q1 = 0\n",
    "        print 'Given B1 Choose A0'\n",
    "    else:\n",
    "        MAP1 = p11*p1*1.0\n",
    "        q1 = 1\n",
    "        print 'Given B1 Choose A1'\n",
    "    print ''\n",
    "\n"
   ]
  },
  {
   "cell_type": "code",
   "execution_count": 7,
   "metadata": {
    "collapsed": false
   },
   "outputs": [
    {
     "name": "stdout",
     "output_type": "stream",
     "text": [
      "The Maximum a Posteriori (MAP) decision rule is:\n",
      "Given B0 Choose A1\n",
      "Given B1 Choose A1\n",
      "\n",
      "The Maximum a Posteriori (MAP) decision rule is:\n",
      "Given B0 Choose A0\n",
      "Given B1 Choose A1\n",
      "\n",
      "The Maximum a Posteriori (MAP) decision rule is:\n",
      "Given B0 Choose A0\n",
      "Given B1 Choose A0\n",
      "\n"
     ]
    }
   ],
   "source": [
    "MAP(0.0 * 1.0,0.0125,1.0/60)\n",
    "MAP(0.98 + 0.001,0.0125,1.0/60)\n",
    "MAP(1.0,0.0125,1.0/60)"
   ]
  },
  {
   "cell_type": "markdown",
   "metadata": {},
   "source": [
    "Above are the 3 possibile MAPs for the plot above. The changes occur whenever the plots for two a posterioris with the same outcome cross eachother. \n",
    "They occur in the ranges [0,1/80] , (1/80 , 59/60], ( 59/60 , 1.0] respectively. "
   ]
  },
  {
   "cell_type": "markdown",
   "metadata": {},
   "source": [
    "--------------\n",
    "\n",
    "Part F"
   ]
  },
  {
   "cell_type": "code",
   "execution_count": 8,
   "metadata": {
    "collapsed": false
   },
   "outputs": [],
   "source": [
    "# Function to generate q1 and q0 for the MAP decision fcn.\n",
    "def getQs(p0, p01, p10):   \n",
    "    p1 = 1 - p0\n",
    "    p00 = 1 - p01\n",
    "    p11 = 1 - p10\n",
    "    if (p00*p0*1.0 > p01*p1*1.0):\n",
    "        q0 = 0\n",
    "    else:\n",
    "        q0 = 1\n",
    "\n",
    "    if (p10*p0*1.0 > p11*p1*1.0):\n",
    "        q1 = 0\n",
    "    else:\n",
    "        q1 = 1\n",
    "    return q0,q1"
   ]
  },
  {
   "cell_type": "code",
   "execution_count": 9,
   "metadata": {
    "collapsed": false
   },
   "outputs": [
    {
     "data": {
      "text/plain": [
       "[<matplotlib.lines.Line2D at 0x10db5c550>]"
      ]
     },
     "execution_count": 9,
     "metadata": {},
     "output_type": "execute_result"
    },
    {
     "data": {
      "image/png": "[encoded data removed]",
      "text/plain": [
       "<matplotlib.figure.Figure at 0x104adf0d0>"
      ]
     },
     "metadata": {},
     "output_type": "display_data"
    }
   ],
   "source": [
    "#Create an array\n",
    "size = 256\n",
    "X = np.linspace(0, 1, size, endpoint=True)\n",
    "Xnot = 1 - X\n",
    "q0 = np.zeros(size)\n",
    "q1 = np.zeros(size)\n",
    "n = 0\n",
    "# Generate q0 and q1 for the fcn. in a np array\n",
    "for x in X:\n",
    "    q0[n],q1[n] = getQs(x,1.0/80,1./60)\n",
    "    n+=1\n",
    "\n",
    "# plot the error prob.'s\n",
    "plt.plot(X, p00*X*(1-q0) + p01*Xnot*q0 )\n",
    "plt.plot(X,p10*X*(1-q1) + p11*Xnot*(q1)) \n",
    "plt.plot(X, p00*X*(q0) + p01*Xnot*(1-q0) + p10*X*(q1) + p11*Xnot*(1-q1) )\n"
   ]
  },
  {
   "cell_type": "markdown",
   "metadata": {},
   "source": [
    "--------------------\n",
    "Part G.\n"
   ]
  },
  {
   "cell_type": "code",
   "execution_count": 10,
   "metadata": {
    "collapsed": false
   },
   "outputs": [],
   "source": [
    "# Fcn. to find the Bit error probability.\n",
    "def BEP(length,p0,p01,p10):\n",
    "\n",
    "    mybits=np.zeros(length, dtype=np.int)\n",
    "    myrands=rand(length)\n",
    "    mybits+=((myrands>p0))\n",
    "    errorbits0=np.zeros(np.size(np.where(mybits==0)), dtype=np.int)\n",
    "    errorbits1=np.zeros(np.size(np.where(mybits==1)), dtype=np.int)\n",
    "\n",
    "    errorbits0+=((rand(np.size(np.where(mybits==0)))>(1-p01)))\n",
    "    errorbits1+=((rand(np.size(np.where(mybits==1)))>(1-p10)))\n",
    "    x = 0\n",
    "    y = 0\n",
    "    for i in xrange(length):\n",
    "        if (mybits[i] == 0):\n",
    "            pass\n",
    "            if(mybits[i] != errorbits0[x]):\n",
    "                mybits[i] = 1\n",
    "            x+=1\n",
    "\n",
    "        elif (mybits[i] == 1) :\n",
    "            if (mybits[i] == errorbits1[y]):\n",
    "                mybits[i] = 0\n",
    "            y+=1\n",
    "    \n",
    "    BEP = (1.0*np.size(np.where(errorbits0 == 1)) + 1.0*np.size(np.where(errorbits1 == 1))) / length\n",
    "    return BEP\n"
   ]
  },
  {
   "cell_type": "code",
   "execution_count": 11,
   "metadata": {
    "collapsed": false
   },
   "outputs": [
    {
     "data": {
      "text/plain": [
       "[<matplotlib.lines.Line2D at 0x10e1b6e50>]"
      ]
     },
     "execution_count": 11,
     "metadata": {},
     "output_type": "execute_result"
    },
    {
     "data": {
      "image/png": "[encoded data removed]",
      "text/plain": [
       "<matplotlib.figure.Figure at 0x10d754e10>"
      ]
     },
     "metadata": {},
     "output_type": "display_data"
    }
   ],
   "source": [
    "\n",
    "size = 11\n",
    "\n",
    "X = np.linspace(0, 1, size, endpoint=True)\n",
    "q0 = np.zeros(size)\n",
    "q1 = np.zeros(size)\n",
    "n = 0\n",
    "POINTS = np.zeros(size)\n",
    "\n",
    "for x in X:\n",
    "    q0[n],q1[n] = getQs(x,1.0/80,1./60)\n",
    "    POINTS[n] = BEP(100000,x,1.0/80,1./60)\n",
    "    n+=1\n",
    "\n",
    "Xnot = 1 - X\n",
    "\n",
    "\n",
    "plt.plot(X, p00*X*(1-q0) + p01*Xnot*q0 )\n",
    "plt.plot(X,p10*X*(1-q1) + p11*Xnot*(q1)) \n",
    "plt.plot(X, p00*X*(q0) + p01*Xnot*(1-q0) + p10*X*(q1) + p11*Xnot*(1-q1) )\n",
    "plt.plot(X, POINTS, 'ro')\n",
    "\n",
    "\n"
   ]
  },
  {
   "cell_type": "markdown",
   "metadata": {},
   "source": [
    "# Part III"
   ]
  },
  {
   "cell_type": "markdown",
   "metadata": {},
   "source": [
    "-------\n",
    "\n",
    "Part H"
   ]
  },
  {
   "cell_type": "code",
   "execution_count": 12,
   "metadata": {
    "collapsed": false
   },
   "outputs": [
    {
     "data": {
      "text/plain": [
       "[<matplotlib.lines.Line2D at 0x10dbdcfd0>]"
      ]
     },
     "execution_count": 12,
     "metadata": {},
     "output_type": "execute_result"
    },
    {
     "data": {
      "image/png": "[encoded data removed]",
      "text/plain": [
       "<matplotlib.figure.Figure at 0x10e15edd0>"
      ]
     },
     "metadata": {},
     "output_type": "display_data"
    }
   ],
   "source": [
    "\n",
    "# Initialize a few variables\n",
    "p01 = 1./8.     \n",
    "p10 = 1./6.\n",
    "\n",
    "p00 = 1 - p01\n",
    "p11 = 1 - p10\n",
    "\n",
    "# Create the array X where the values represent p0\n",
    "\n",
    "X = np.linspace(0, 1, 256, endpoint=True)\n",
    "\n",
    "Xnot = 1 - X\n",
    "\n",
    "#Generate the a posteriori probabilities as a fcn of X\n",
    "A0B0 =  p00*X/(p00*X + p01* Xnot)*1.0\n",
    "A1B0 =  p01*Xnot/(p00*X + p01* Xnot)*1.0\n",
    "A0B1 =  p10*X/(p10*X + p11* Xnot)*1.0\n",
    "A1B1 = p11*Xnot/(p10*X + p11* Xnot)*1.0\n",
    "    \n",
    "# Plot the probabilities\n",
    "plt.plot(X, A0B0)\n",
    "plt.plot(X, A1B0)\n",
    "plt.plot(X, A0B1)\n",
    "plt.plot(X, A1B1)\n",
    "\n"
   ]
  },
  {
   "cell_type": "markdown",
   "metadata": {},
   "source": [
    "-----\n",
    "Part I"
   ]
  },
  {
   "cell_type": "code",
   "execution_count": 13,
   "metadata": {
    "collapsed": true
   },
   "outputs": [],
   "source": [
    "def MAP(p0, p01, p10):   \n",
    "    p1 = 1 - p0\n",
    "    p00 = 1 - p01\n",
    "    p11 = 1 - p10\n",
    "    print 'The Maximum a Posteriori (MAP) decision rule is:'\n",
    "    if (p00*p0*1.0 > p01*p1*1.0):\n",
    "        MAP0 = p00*p0*1.0\n",
    "        q0 = 0\n",
    "        print 'Given B0 Choose A0'\n",
    "    else:\n",
    "        MAP0 = p01*p1*1.0\n",
    "        q0 = 1\n",
    "        print 'Given B0 Choose A1'\n",
    "\n",
    "    if (p10*p0*1.0 > p11*p1*1.0):\n",
    "        MAP1 = p10*p0*1.0\n",
    "        q1 = 0\n",
    "        print 'Given B1 Choose A0'\n",
    "    else:\n",
    "        MAP1 = p11*p1*1.0\n",
    "        q1 = 1\n",
    "        print 'Given B1 Choose A1'\n",
    "    print ''\n",
    "    return q0,q1\n"
   ]
  },
  {
   "cell_type": "code",
   "execution_count": 14,
   "metadata": {
    "collapsed": false
   },
   "outputs": [
    {
     "name": "stdout",
     "output_type": "stream",
     "text": [
      "The Maximum a Posteriori (MAP) decision rule is:\n",
      "Given B0 Choose A1\n",
      "Given B1 Choose A1\n",
      "\n",
      "The Maximum a Posteriori (MAP) decision rule is:\n",
      "Given B0 Choose A0\n",
      "Given B1 Choose A1\n",
      "\n",
      "The Maximum a Posteriori (MAP) decision rule is:\n",
      "Given B0 Choose A0\n",
      "Given B1 Choose A0\n",
      "\n"
     ]
    }
   ],
   "source": [
    "q0,q1= MAP(0.0 * 1.0,0.125,1.0/6)\n",
    "q0,q1=MAP(5.0/6 - 0.001,0.125,1.0/6)\n",
    "q0,q1=MAP(1.0,0.125,1.0/6)"
   ]
  },
  {
   "cell_type": "markdown",
   "metadata": {},
   "source": [
    "Above are the 3 possibile MAPs for the plot above. The changes occur whenever the plots for two a posterioris with the same outcome cross eachother. They occur in the ranges [0,1/8] , (1/8 , 5/6], ( 5/6 , 1.0] respectively.\n",
    "\n",
    "-----\n",
    "PART J"
   ]
  },
  {
   "cell_type": "code",
   "execution_count": 15,
   "metadata": {
    "collapsed": false
   },
   "outputs": [
    {
     "data": {
      "text/plain": [
       "[<matplotlib.lines.Line2D at 0x10e08af50>]"
      ]
     },
     "execution_count": 15,
     "metadata": {},
     "output_type": "execute_result"
    },
    {
     "data": {
      "image/png": "[encoded data removed]",
      "text/plain": [
       "<matplotlib.figure.Figure at 0x10dffd4d0>"
      ]
     },
     "metadata": {},
     "output_type": "display_data"
    }
   ],
   "source": [
    "#Create an array\n",
    "size = 256\n",
    "X = np.linspace(0, 1, size, endpoint=True)\n",
    "Xnot = 1 - X\n",
    "q0 = np.zeros(size)\n",
    "q1 = np.zeros(size)\n",
    "n = 0\n",
    "# Generate q0 and q1 for the fcn. in a np array\n",
    "for x in X:\n",
    "    q0[n],q1[n] = getQs(x,1.0/8,1./6)\n",
    "    n+=1\n",
    "\n",
    "# plot the error prob.'s\n",
    "plt.plot(X, p00*X*(1-q0) + p01*Xnot*q0 )\n",
    "plt.plot(X,p10*X*(1-q1) + p11*Xnot*(q1))\n",
    "plt.plot(X, p00*X*(q0) + p01*Xnot*(1-q0) + p10*X*(q1) + p11*Xnot*(1-q1) )\n",
    "\n"
   ]
  },
  {
   "cell_type": "markdown",
   "metadata": {},
   "source": [
    "---- \n",
    "PART K"
   ]
  },
  {
   "cell_type": "code",
   "execution_count": 18,
   "metadata": {
    "collapsed": false
   },
   "outputs": [
    {
     "data": {
      "text/plain": [
       "[<matplotlib.lines.Line2D at 0x10e9bbdd0>]"
      ]
     },
     "execution_count": 18,
     "metadata": {},
     "output_type": "execute_result"
    },
    {
     "data": {
      "image/png": "[encoded data removed]",
      "text/plain": [
       "<matplotlib.figure.Figure at 0x10dadc710>"
      ]
     },
     "metadata": {},
     "output_type": "display_data"
    }
   ],
   "source": [
    "\n",
    "size = 11\n",
    "\n",
    "X = np.linspace(0, 1, size, endpoint=True)\n",
    "q0 = np.zeros(size)\n",
    "q1 = np.zeros(size)\n",
    "n = 0\n",
    "POINTS = np.zeros(size)\n",
    "\n",
    "for x in X:\n",
    "    q0[n],q1[n] = getQs(x,1.0/8,1./6)\n",
    "    POINTS[n] = BEP(100000,x,1.0/8,1./6)\n",
    "    n+=1\n",
    "Xnot = 1 - X\n",
    "\n",
    "\n",
    "plt.plot(X, p00*X*(1-q0) + p01*Xnot*q0 )\n",
    "plt.plot(X,p10*X*(1-q1) + p11*Xnot*(q1))\n",
    "plt.plot(X, p00*X*(q0) + p01*Xnot*(1-q0) + p10*X*(q1) + p11*Xnot*(1-q1) )\n",
    "plt.plot(X, POINTS, 'ro')\n"
   ]
  },
  {
   "cell_type": "markdown",
   "metadata": {
    "collapsed": true
   },
   "source": [
    "# Part IV"
   ]
  },
  {
   "cell_type": "markdown",
   "metadata": {
    "collapsed": true
   },
   "source": [
    "I would still argue that the a prioris contain valuable information. Although there is no way to discern the difference at the output of bits that might be in error vs. ones that are correct, we can at least know what percentage of the bits are probably in error over large sequences. Moreover, when employing methods for channel coding we can optimize the system to  have minimal error when deciding the value of each bit and minimize the coded sequence length.\n",
    "\n",
    "Comparing scenarios 1 and 2, the higher the bit error probabilities corresponded to larger values of p01 and p10. Knowing these a priori probabilities can help us decide bits that may or may not be in error. But as the aprioris approach 0.5 in a very noisy channel there isn't much we can do correct for error. "
   ]
  },
  {
   "cell_type": "code",
   "execution_count": null,
   "metadata": {
    "collapsed": true
   },
   "outputs": [],
   "source": []
  },
  {
   "cell_type": "code",
   "execution_count": null,
   "metadata": {
    "collapsed": true
   },
   "outputs": [],
   "source": []
  }
 ],
 "metadata": {
  "anaconda-cloud": {},
  "kernelspec": {
   "display_name": "Python 2",
   "language": "python",
   "name": "python2"
  },
  "language_info": {
   "codemirror_mode": {
    "name": "ipython",
    "version": 2
   },
   "file_extension": ".py",
   "mimetype": "text/x-python",
   "name": "python",
   "nbconvert_exporter": "python",
   "pygments_lexer": "ipython2",
   "version": "2.7.12"
  }
 },
 "nbformat": 4,
 "nbformat_minor": 0
}
